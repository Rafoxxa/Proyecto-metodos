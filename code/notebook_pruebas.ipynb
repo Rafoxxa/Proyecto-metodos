{
 "cells": [
  {
   "cell_type": "markdown",
   "metadata": {},
   "source": [
    "## Prueba NG Solve"
   ]
  },
  {
   "cell_type": "markdown",
   "metadata": {},
   "source": [
    "Simulación"
   ]
  },
  {
   "cell_type": "markdown",
   "metadata": {},
   "source": [
    "Primero se debe llamar a la gui (graphical user interphace), así esta se abre y luego cualquier simulación se observará en ella"
   ]
  },
  {
   "cell_type": "code",
   "execution_count": 2,
   "metadata": {},
   "outputs": [],
   "source": [
    "\n",
    "# Importamos los paquetes\n",
    "import netgen.gui\n",
    "from netgen.geom2d import unit_square\n",
    "from ngsolve import *\n",
    "\n",
    "def solve(h, draw = 0):\n",
    "    mesh = Mesh(unit_square.GenerateMesh(maxh=h))  # h será el tamaño de la malla y se usará el tipo unit_square, para otras geometrías hay que buscar el nombre y en base a ello se tendrán distintos boundries (se explicitan con strings ('bottom', 'top', etc))\n",
    "\n",
    "    # Se definen funciones que se utilizarán, todas con lengauje simbólico.\n",
    "    source = exp((x-0.5)*(y-0.5))*(2.5*x*y - y**4*x + y**3*x - 2*y**3*x - 2*y**3 - y**2*x**3 + y**2*x**2 - 0.5*y**2*x + y**2 - 3*y*x**2 - x)\n",
    "    ud = exp((x-0.5)*(y-0.5))*x*y\n",
    "    g = exp((x-0.5)*(y - 0.5))*(x*y + y**2*x - 0.5*y**2)\n",
    "\n",
    "\n",
    "    fesp = H1(mesh, order=3, dirichlet=\"bottom\")  # Se define un espacio de elementos finitos, H1 corresponde al espacio de polinomios continuos, se define también el tipo de condición según el borde (en este caso 'bottom')\n",
    "    up, vp = fesp.TnT()                           # Se crean las funciones en el orden: trial function, test function\n",
    "\n",
    "    #u = fes.TrialFunction()  # symbolic object   # Esta es una forma alternativa de generar la función de trial, test\n",
    "    #v = fes.TestFunction()   # symbolic object\n",
    "    #gfu = GridFunction(fes)  # solution\n",
    "\n",
    "    ap = BilinearForm(fesp)                       # Se arma la forma bilineal (lado izquierdo de la formulación débil) (primero definiéndola para los elementos finitos diseñados)\n",
    "    ap += (grad(up)*y*grad(vp) + up*vp)*dx        # Se coloca directamente la expresión\n",
    "    ap.Assemble()                                 # Este paso es clave para armar la matriz que luego se usará en simular\n",
    "\n",
    "    fp = LinearForm(fesp)                         # Se arma la forma lineal (lado derecho de la formulación débil)\n",
    "    fp += source*vp*dx + g*vp * ds                # Se coloca directamente la expresión\n",
    "    fp.Assemble()                                 # El ensamblaje del vector\n",
    "\n",
    "    # con el comando \n",
    "    # ap.mat # se puede obtener la matriz\n",
    "    # fp.vec # se puede obtener el vector\n",
    "\n",
    "    gfup = GridFunction(fesp, \"u-primal\")         # Acá se guardará la solución\n",
    "    gfup.Set(ud, BND)\n",
    "\n",
    "    gfup.Set(g, definedon=mesh.Boundaries(\"bottom\"))                   # Acá se agregar directamente las condiciones de borde\n",
    "\n",
    "    r = fp.vec.CreateVector()                                            # Este vector permite que se puedan incorporar correctamente las condiciones de borde al sistema                \n",
    "    r.data = fp.vec - ap.mat * gfup.vec                                  # Con esto    \n",
    "    gfup.vec.data += ap.mat.Inverse(freedofs=fesp.FreeDofs()) * fp.vec   # Con esto se resuelve el sistema\n",
    "    if draw:\n",
    "        Draw(gfup)\n",
    "    return gfup, mesh\n",
    "#Draw (grad(gfup), mesh, \"flux-primal\")"
   ]
  },
  {
   "cell_type": "code",
   "execution_count": 7,
   "metadata": {},
   "outputs": [],
   "source": [
    "from ngsolve.krylovspace import CGSolver\n",
    "import netgen.gui\n",
    "from netgen.geom2d import unit_square\n",
    "from ngsolve import *\n",
    "\n",
    "def initial_conds():\n",
    "    v0 = x + sin(y)\n",
    "    w0 = 0.2\n",
    "    T = 2\n",
    "    D = 1\n",
    "    a = 1\n",
    "    b = 1\n",
    "    lamb = 1\n",
    "    thet = 1\n",
    "    params = (T, D, a, b, lamb, thet)\n",
    "    return v0, w0, params\n",
    "\n",
    "def solve_FHN1(v0, w0, params, I_app=0, h=0.2, order=2, CFL=0.7, draw=0, ion=False, DG=True, CG=False):\n",
    "    \"\"\"\n",
    "    Usa euler explicito.\n",
    "    \"\"\"\n",
    "    T, D, a, b, lamb, thet = params\n",
    "    \n",
    "    mesh = Mesh(unit_square.GenerateMesh(maxh=h))  \n",
    "    if DG:\n",
    "        V = L2(mesh, order=order) # espacio de funciones integrables para 1ra ecuacion\n",
    "        Q = L2(mesh, order=order-1) # espacio de funciones integrables para 2da ecuacion\n",
    "    else:\n",
    "        V = H1(mesh, order=order) # espacio de funciones con derivada integrable para 1ra ecuacion\n",
    "        Q = H1(mesh, order=order-1) # espacio de funciones con derivada integrable para 2da ecuacion\n",
    "    \n",
    "    X = V*Q # espacio producto\n",
    "    (v, p), (w, q) = X.TnT() # funciones trial y test\n",
    "\n",
    "\n",
    "    a = BilinearForm(X, nonassemble=True)\n",
    "    a += (D * grad(v) * grad(p)) * dx # primera ecuacion fitshugh-nagumo estatica (sin tiempo)\n",
    "    if ion: \n",
    "        I_ion = (-lamb*v*(v - thet)*(1 - v)*p + lamb*w*p) * dx # termino no lineal (corriente ionica)\n",
    "        a += I_ion\n",
    "    a += (b*w*q)*dx # segunda ecuacion fitshugh-nagumo estatica # No funciona hacer v*q\n",
    "    a.Assemble()\n",
    "\n",
    "    if I_app:\n",
    "        l = LinearForm(X)\n",
    "        l += I_app * p * dx\n",
    "        l.Assemble()\n",
    "\n",
    "    m = X.Mass(1)\n",
    "    if CG:\n",
    "        prem = m.mat.CreateSmooter()\n",
    "        minv = CGSolver(m, prem, tol=1e-8, maxiter=200)\n",
    "    else:\n",
    "        minv = m.Inverse()\n",
    "\n",
    "    t = 0; dt = CFL*h\n",
    "\n",
    "    gfu = GridFunction(X)\n",
    "    gfu.components[0].Set(v0) # Se fija condicion inicial v\n",
    "    gfu.components[1].Set(w0) # Se fija condicion inicial w\n",
    "\n",
    "    sceneu=Draw(gfu.components[0], mesh,\"u\", autoscale=True, animate=False, order=5)\n",
    "\n",
    "    res = gfu.vec.CreateVector()\n",
    "    \n",
    "\n",
    "    while t + dt/2 <= T:\n",
    "        print(t)\n",
    "        res.data = minv @ a.mat * gfu.vec\n",
    "        gfu.vec.data -= dt * res\n",
    "        t += dt\n",
    "        #sceneu.Redraw()\n",
    "\n",
    "    return gfu"
   ]
  },
  {
   "cell_type": "code",
   "execution_count": 8,
   "metadata": {},
   "outputs": [
    {
     "name": "stdout",
     "output_type": "stream",
     "text": [
      " Face 1 / 1 (parameter space projection)\n",
      "craete bilinearformapplication\n",
      "0\n",
      "0.13999999999999999\n",
      "0.27999999999999997\n",
      "0.41999999999999993\n",
      "0.5599999999999999\n",
      "0.7\n",
      "0.84\n",
      "0.98\n",
      "1.1199999999999999\n",
      "1.2599999999999998\n",
      "1.3999999999999997\n",
      "1.5399999999999996\n",
      "1.6799999999999995\n",
      "1.8199999999999994\n"
     ]
    }
   ],
   "source": [
    "v0, w0, params = initial_conds()\n",
    "gfu = solve_FHN1(v0, w0, params)\n"
   ]
  },
  {
   "cell_type": "code",
   "execution_count": 30,
   "metadata": {},
   "outputs": [
    {
     "data": {
      "text/plain": [
       "basevector"
      ]
     },
     "execution_count": 30,
     "metadata": {},
     "output_type": "execute_result"
    }
   ],
   "source": [
    "gfu.vec"
   ]
  },
  {
   "cell_type": "code",
   "execution_count": null,
   "metadata": {},
   "outputs": [],
   "source": [
    "def solve_FHN2(v0, w0, params, I_app=0, h=0.2, order=2, CFL=0.7, draw=0, ion=False, DG=False, CG=False):\n",
    "    \"\"\"\n",
    "    Usa euler implicito. Por ahora la matriz del sistema queda no invertible\n",
    "    \"\"\"\n",
    "    T, D, a, b, lamb, thet = params\n",
    "    \n",
    "    mesh = Mesh(unit_square.GenerateMesh(maxh=h))  \n",
    "    if DG:\n",
    "        V = L2(mesh, order=order) # espacio de funciones integrables para 1ra ecuacion\n",
    "        Q = L2(mesh, order=order-1) # espacio de funciones integrables para 2da ecuacion\n",
    "    else:\n",
    "        V = H1(mesh, order=order) # espacio de funciones con derivada integrable para 1ra ecuacion\n",
    "        Q = H1(mesh, order=order-1) # espacio de funciones con derivada integrable para 2da ecuacion\n",
    "    \n",
    "    X = V*Q # espacio producto\n",
    "    (v, p), (w, q) = X.TnT() # funciones trial y test\n",
    "\n",
    "\n",
    "    a = BilinearForm(X, nonassemble=True)\n",
    "    a += (D * grad(v) * grad(p)) * dx # primera ecuacion fitshugh-nagumo estatica (sin tiempo)\n",
    "    if ion: \n",
    "        I_ion = (-lamb*v*(v - thet)*(1 - v)*p + lamb*w*p) * dx # termino no lineal (corriente ionica)\n",
    "        a += I_ion\n",
    "    a += (b*w*q)*dx # segunda ecuacion fitshugh-nagumo estatica # No funciona hacer v*q\n",
    "    a.Assemble()\n",
    "\n",
    "    if I_app:\n",
    "        l = LinearForm(X)\n",
    "        l += I_app * p * dx\n",
    "        l.Assemble()\n",
    "\n",
    "    m = BilinearForm(X)\n",
    "    m += (v*p + w*q)*dx # Matriz de masa\n",
    "    m.Assemble()\n",
    "\n",
    "    t = 0; dt = CFL*h\n",
    "    # ver parabolic.ipynb \n",
    "    if CG: # Usamos gradiente conjugado para invertir la matriz mas rapido\n",
    "        mstar = m.mat + dt * a.mat\n",
    "        premstar = m.mat.CreateSmoother() # + dt * a.mat.CreateSmoother()\n",
    "        invmstar = CGSolver(mstar, premstar,\\\n",
    "                        tol=1e-8, maxiter=200)\n",
    "\n",
    "    else:\n",
    "        mstar = m.mat.CreateMatrix()\n",
    "        mstar.AsVector().data = m.mat.AsVector() + dt * a.mat.AsVector()\n",
    "        invmstar = mstar.Inverse(freedofs=X.FreeDofs())\n",
    "\n",
    "    gfu = GridFunction(X)\n",
    "    gfu.components[0].Set(v0) # Se fija condicion inicial v\n",
    "    gfu.components[1].Set(w0) # Se fija condicion inicial w\n",
    "\n",
    "    sceneu = Draw(gfu,mesh,\"u\", autoscale=True, animate=False, order=5)\n",
    "\n",
    "    res = gfu.vec.CreateVector()\n",
    "    \n",
    "\n",
    "    while t + dt/2 <= T:\n",
    "        print(f'time {t}')\n",
    "        res.data = dt * l.vec - dt * a.mat * gfu.vec\n",
    "        gfu.vec.data += invmstar * res\n",
    "        t += dt\n",
    "        sceneu.Redraw()"
   ]
  }
 ],
 "metadata": {
  "kernelspec": {
   "display_name": "Python 3.10.4 64-bit",
   "language": "python",
   "name": "python3"
  },
  "language_info": {
   "codemirror_mode": {
    "name": "ipython",
    "version": 3
   },
   "file_extension": ".py",
   "mimetype": "text/x-python",
   "name": "python",
   "nbconvert_exporter": "python",
   "pygments_lexer": "ipython3",
   "version": "3.10.4"
  },
  "orig_nbformat": 4,
  "vscode": {
   "interpreter": {
    "hash": "aee8b7b246df8f9039afb4144a1f6fd8d2ca17a180786b69acc140d282b71a49"
   }
  }
 },
 "nbformat": 4,
 "nbformat_minor": 2
}
