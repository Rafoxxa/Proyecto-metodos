{
 "cells": [
  {
   "cell_type": "markdown",
   "metadata": {
    "slideshow": {
     "slide_type": "slide"
    }
   },
   "source": [
    "# 3.1 Parabolic model problem\n",
    "We are solving the unsteady heat equation \n",
    "\n",
    "$$\\text{find } u:[0,T] \\to H_{0,D}^1 \\quad \\int_{\\Omega} \\partial_t u v + \\int_{\\Omega} \\nabla u \\nabla v + b \\cdot \\nabla u v = \\int f v  \\quad \\forall v \\in H_{0,D}^1, \\quad u(t=0) = u_0$$\n",
    "\n",
    "with a suitable advective field $b$ (the wind)."
   ]
  },
  {
   "cell_type": "code",
<<<<<<< HEAD
   "execution_count": 2,
=======
   "execution_count": 57,
>>>>>>> 94fd5c5612158db73810adddbdfbc8f5fa64b3f1
   "metadata": {
    "slideshow": {
     "slide_type": "subslide"
    }
   },
   "outputs": [],
   "source": [
    "from ngsolve import *\n",
    "from math import pi\n",
    "from netgen.geom2d import SplineGeometry\n",
<<<<<<< HEAD
    "import netgen.gui\n",
    "#from ngsolve.webgui import Draw"
=======
    "import netgen.gui"
>>>>>>> 94fd5c5612158db73810adddbdfbc8f5fa64b3f1
   ]
  },
  {
   "cell_type": "markdown",
   "metadata": {
    "slideshow": {
     "slide_type": "subslide"
    }
   },
   "source": [
    "* Geometry: $(-1,1)^2$\n",
    "* Dirichlet boundaries everywhere\n",
    "* Mesh"
   ]
  },
  {
   "cell_type": "code",
<<<<<<< HEAD
   "execution_count": 3,
=======
   "execution_count": 58,
>>>>>>> 94fd5c5612158db73810adddbdfbc8f5fa64b3f1
   "metadata": {
    "slideshow": {
     "slide_type": "-"
    }
   },
   "outputs": [
    {
     "name": "stdout",
     "output_type": "stream",
     "text": [
      " Generate Mesh from spline geometry\n"
     ]
    }
   ],
   "source": [
    "geo = SplineGeometry()\n",
    "geo.AddRectangle( (-1, -1), (1, 1), \n",
    "                 bcs = (\"bottom\", \"right\", \"top\", \"left\"))\n",
    "mesh = Mesh( geo.GenerateMesh(maxh=0.25))\n",
    "Draw(mesh)\n",
    "fes = H1(mesh, order=3, dirichlet=\"bottom|right|left|top\")\n",
    "\n",
    "u,v = fes.TnT()\n",
    "\n",
    "time = 0.0\n",
    "dt = 0.001"
   ]
  },
  {
   "cell_type": "markdown",
   "metadata": {
    "slideshow": {
     "slide_type": "subslide"
    }
   },
   "source": [
    "We define the field $b$ (the wind) as \n",
    "\n",
    "$$b(x,y) := (2y(1-x^2),-2x(1-y^2)).$$"
   ]
  },
  {
   "cell_type": "code",
<<<<<<< HEAD
   "execution_count": 4,
=======
   "execution_count": 59,
>>>>>>> 94fd5c5612158db73810adddbdfbc8f5fa64b3f1
   "metadata": {
    "slideshow": {
     "slide_type": "-"
    }
   },
   "outputs": [],
   "source": [
    "b = CoefficientFunction((2*y*(1-x*x),-2*x*(1-y*y)))\n",
    "Draw(b,mesh,\"wind\")\n",
    "from ngsolve.internal import visoptions\n",
    "visoptions.scalfunction = \"wind:0\""
   ]
  },
  {
   "cell_type": "markdown",
   "metadata": {
    "slideshow": {
     "slide_type": "subslide"
    }
   },
   "source": [
    "* bilinear forms for \n",
    " * convection-diffusion stiffness and \n",
    " * mass matrix seperately.\n",
    "* non-symmetric memory layout for the mass matrix so that a and m have the same sparsity pattern."
   ]
  },
  {
<<<<<<< HEAD
=======
   "cell_type": "code",
   "execution_count": 60,
   "metadata": {
    "slideshow": {
     "slide_type": "-"
    }
   },
   "outputs": [
    {
     "data": {
      "text/plain": [
       "<ngsolve.comp.BilinearForm at 0x2bfa84c70>"
      ]
     },
     "execution_count": 60,
     "metadata": {},
     "output_type": "execute_result"
    }
   ],
   "source": [
    "a = BilinearForm(fes, symmetric=False)\n",
    "a += 0.01*grad(u)*grad(v)*dx + b*grad(u)*v*dx\n",
    "a.Assemble()\n",
    "\n",
    "m = BilinearForm(fes, symmetric=False)\n",
    "m += u*v*dx\n",
    "m.Assemble()"
   ]
  },
  {
>>>>>>> 94fd5c5612158db73810adddbdfbc8f5fa64b3f1
   "cell_type": "markdown",
   "metadata": {
    "slideshow": {
     "slide_type": "subslide"
    }
   },
   "source": [
    "## Implicit Euler method\n",
    "$$\n",
    "  \\underbrace{(M + \\Delta t A)}_{M^\\ast} u^{n+1} = M u^n + \\Delta tf^{n+1}\n",
    "$$\n",
    "\n",
    "or in an incremental form:\n",
    "\n",
    "$$\n",
    "  M^\\ast (u^{n+1} - u^n) = - \\Delta t A u^n + \\Delta tf^{n+1}.\n",
    "$$\n",
    "\n",
    "* Incremental form: $u^{n+1} - u^n$ has homogeneous boundary conditions (unless boundary conditions are time-dependent).\n",
    "* For the time stepping method: set up linear combinations of matrices.\n",
    "* (Only) if the sparsity pattern of the matrices agree we can copy the pattern and sum up the entries."
   ]
  },
  {
   "cell_type": "code",
   "execution_count": 5,
   "metadata": {
    "slideshow": {
     "slide_type": "-"
    }
   },
   "outputs": [
    {
     "data": {
      "text/plain": [
       "<ngsolve.comp.BilinearForm at 0x28043562ff0>"
      ]
     },
     "execution_count": 5,
     "metadata": {},
     "output_type": "execute_result"
    }
   ],
   "source": [
    "a = BilinearForm(fes, symmetric=False)\n",
    "a += 0.01*grad(u)*grad(v)*dx + b*grad(u)*v*dx\n",
    "a.Assemble()\n",
    "\n",
    "m = BilinearForm(fes, symmetric=False)\n",
    "m += u*v*dx\n",
    "m.Assemble()"
   ]
  },
  {
   "cell_type": "markdown",
   "metadata": {
    "slideshow": {
     "slide_type": "subslide"
    }
   },
   "source": [
    "First, we create a matrix of the same size and sparsity pattern as m.mat:"
   ]
  },
  {
   "cell_type": "code",
<<<<<<< HEAD
   "execution_count": 6,
=======
   "execution_count": 61,
>>>>>>> 94fd5c5612158db73810adddbdfbc8f5fa64b3f1
   "metadata": {
    "slideshow": {
     "slide_type": "-"
    },
    "tags": [
     "outputPrepend"
    ]
   },
   "outputs": [
    {
     "name": "stdout",
     "output_type": "stream",
     "text": [
      "10798 10798 10798\n"
     ]
    }
   ],
   "source": [
    "mstar = m.mat.CreateMatrix()\n",
<<<<<<< HEAD
    "#print(m.mat.nze, a.mat.nze, mstar.nze)\n",
=======
    "print(m.mat.nze, a.mat.nze, mstar.nze)\n",
>>>>>>> 94fd5c5612158db73810adddbdfbc8f5fa64b3f1
    "#print(mstar)"
   ]
  },
  {
   "cell_type": "markdown",
   "metadata": {
    "slideshow": {
     "slide_type": "subslide"
    }
   },
   "source": [
    "To access the entries we use the vector of nonzero-entries:"
   ]
  },
  {
   "cell_type": "code",
   "execution_count": 62,
   "metadata": {
    "slideshow": {
     "slide_type": "-"
    }
   },
   "outputs": [
    {
     "name": "stdout",
     "output_type": "stream",
     "text": [
      "10798\n",
      "10798\n"
     ]
    }
   ],
   "source": [
    "print(mstar.nze)\n",
    "print(len(mstar.AsVector()))"
   ]
  },
  {
   "cell_type": "code",
   "execution_count": null,
   "metadata": {
    "slideshow": {
     "slide_type": "-"
    },
    "tags": [
     "outputPrepend"
    ]
   },
   "outputs": [],
   "source": [
    "print(mstar.AsVector())"
   ]
  },
  {
   "cell_type": "code",
   "execution_count": 9,
   "metadata": {},
   "outputs": [
    {
     "data": {
      "text/plain": [
       "basevector"
      ]
     },
     "execution_count": 9,
     "metadata": {},
     "output_type": "execute_result"
    }
   ],
   "source": [
    "a.mat.AsVector()"
   ]
  },
  {
   "cell_type": "markdown",
   "metadata": {
    "slideshow": {
     "slide_type": "subslide"
    }
   },
   "source": [
    "Using the vector we can build the linear combination of the a and the m matrix:"
   ]
  },
  {
   "cell_type": "code",
<<<<<<< HEAD
   "execution_count": 7,
=======
   "execution_count": 63,
>>>>>>> 94fd5c5612158db73810adddbdfbc8f5fa64b3f1
   "metadata": {
    "slideshow": {
     "slide_type": "-"
    }
   },
   "outputs": [],
   "source": [
    "mstar = m.mat.CreateMatrix()\n",
    "mstar.AsVector().data = m.mat.AsVector() + dt * a.mat.AsVector()\n",
    "invmstar = mstar.Inverse(freedofs=fes.FreeDofs())"
   ]
  },
  {
   "cell_type": "code",
   "execution_count": 85,
   "metadata": {},
   "outputs": [
    {
     "data": {
      "text/plain": [
       "<ngsolve.la.BaseMatrix at 0x120f6a8b0>"
      ]
     },
     "execution_count": 85,
     "metadata": {},
     "output_type": "execute_result"
    }
   ],
   "source": [
    "invmstar"
   ]
  },
  {
   "cell_type": "markdown",
   "metadata": {
    "slideshow": {
     "slide_type": "subslide"
    }
   },
   "source": [
    "We set the r.h.s. $f = exp(-6 ((x+\\frac12)^2+y^2)) - exp(-6 ((x-\\frac12)^2+y^2))$"
   ]
  },
  {
   "cell_type": "code",
<<<<<<< HEAD
   "execution_count": 8,
=======
   "execution_count": 64,
>>>>>>> 94fd5c5612158db73810adddbdfbc8f5fa64b3f1
   "metadata": {
    "slideshow": {
     "slide_type": "-"
    }
   },
   "outputs": [
    {
     "data": {
      "text/plain": [
<<<<<<< HEAD
       "<ngsolve.comp.LinearForm at 0x2804355c530>"
      ]
     },
     "execution_count": 8,
=======
       "<ngsolve.comp.LinearForm at 0x1481107f0>"
      ]
     },
     "execution_count": 64,
>>>>>>> 94fd5c5612158db73810adddbdfbc8f5fa64b3f1
     "metadata": {},
     "output_type": "execute_result"
    }
   ],
   "source": [
    "f = LinearForm(fes)\n",
    "gaussp = exp(-6*((x+0.5)*(x+0.5)+y*y))-exp(-6*((x-0.5)*(x-0.5)+y*y))\n",
    "Draw(gaussp,mesh,\"f\")\n",
    "f += gaussp*v*dx\n",
    "f.Assemble()"
   ]
  },
  {
   "cell_type": "markdown",
   "metadata": {
    "slideshow": {
     "slide_type": "subslide"
    }
   },
   "source": [
    "and the initial data: $u_0 = (1-y^2)x$"
   ]
  },
  {
   "cell_type": "code",
<<<<<<< HEAD
   "execution_count": 20,
=======
   "execution_count": 65,
>>>>>>> 94fd5c5612158db73810adddbdfbc8f5fa64b3f1
   "metadata": {
    "slideshow": {
     "slide_type": "-"
    }
   },
   "outputs": [],
   "source": [
    "gfu = GridFunction(fes)\n",
    "gfu.Set((1-y*y)*x)\n",
    "Draw(gfu,mesh,\"u\")"
   ]
  },
  {
   "cell_type": "code",
<<<<<<< HEAD
   "execution_count": 17,
=======
   "execution_count": 66,
>>>>>>> 94fd5c5612158db73810adddbdfbc8f5fa64b3f1
   "metadata": {},
   "outputs": [],
   "source": [
    "res = gfu.vec.CreateVector()\n",
    "tstep = 1 # time that we want to step over within one block-run"
   ]
  },
  {
   "cell_type": "code",
<<<<<<< HEAD
   "execution_count": 19,
=======
   "execution_count": 67,
>>>>>>> 94fd5c5612158db73810adddbdfbc8f5fa64b3f1
   "metadata": {
    "slideshow": {
     "slide_type": "subslide"
    }
   },
   "outputs": [
    {
     "name": "stdout",
     "output_type": "stream",
     "text": [
<<<<<<< HEAD
      " 6.001000000000005"
     ]
    },
    {
     "ename": "TypeError",
     "evalue": "_Redraw(): incompatible function arguments. The following argument types are supported:\n    1. (blocking: bool = False, fr: float = 25) -> bool\n\nInvoked with: kwargs: blocking=False, animate=True",
     "output_type": "error",
     "traceback": [
      "\u001b[1;31m---------------------------------------------------------------------------\u001b[0m",
      "\u001b[1;31mTypeError\u001b[0m                                 Traceback (most recent call last)",
      "File \u001b[1;32m<timed exec>:8\u001b[0m\n",
      "File \u001b[1;32m~\\AppData\\Local\\Programs\\Python\\Python310\\lib\\site-packages\\netgen\\__init__.py:23\u001b[0m, in \u001b[0;36mRedraw\u001b[1;34m(*args, **kwargs)\u001b[0m\n\u001b[0;32m     22\u001b[0m \u001b[39mdef\u001b[39;00m \u001b[39mRedraw\u001b[39m(\u001b[39m*\u001b[39margs, \u001b[39m*\u001b[39m\u001b[39m*\u001b[39mkwargs):\n\u001b[1;32m---> 23\u001b[0m     \u001b[39mreturn\u001b[39;00m _Redraw(\u001b[39m*\u001b[39margs, \u001b[39m*\u001b[39m\u001b[39m*\u001b[39mkwargs)\n",
      "File \u001b[1;32m~\\AppData\\Local\\Programs\\Python\\Python310\\lib\\site-packages\\netgen\\gui.py:41\u001b[0m, in \u001b[0;36mStartGUI.<locals>._Redraw\u001b[1;34m(*args, **kwargs)\u001b[0m\n\u001b[0;32m     40\u001b[0m \u001b[39mdef\u001b[39;00m \u001b[39m_Redraw\u001b[39m(\u001b[39m*\u001b[39margs, \u001b[39m*\u001b[39m\u001b[39m*\u001b[39mkwargs):\n\u001b[1;32m---> 41\u001b[0m     \u001b[39mif\u001b[39;00m libngpy\u001b[39m.\u001b[39m_meshing\u001b[39m.\u001b[39m_Redraw(\u001b[39m*\u001b[39margs, \u001b[39m*\u001b[39m\u001b[39m*\u001b[39mkwargs):\n\u001b[0;32m     42\u001b[0m         \u001b[39mimport\u001b[39;00m \u001b[39mnetgen\u001b[39;00m\n\u001b[0;32m     43\u001b[0m         \u001b[39mimport\u001b[39;00m \u001b[39mtkinter\u001b[39;00m\n",
      "\u001b[1;31mTypeError\u001b[0m: _Redraw(): incompatible function arguments. The following argument types are supported:\n    1. (blocking: bool = False, fr: float = 25) -> bool\n\nInvoked with: kwargs: blocking=False, animate=True"
=======
      " 1.000000000000000776\n",
      "CPU times: user 133 ms, sys: 31.6 ms, total: 164 ms\n",
      "Wall time: 230 ms\n"
>>>>>>> 94fd5c5612158db73810adddbdfbc8f5fa64b3f1
     ]
    }
   ],
   "source": [
    "%%time\n",
    "t_intermediate=0 # time counter within one block-run\n",
    "#Redraw(blocking=False)\n",
    "while t_intermediate < tstep - 0.5 * dt:\n",
    "    res.data = dt * f.vec - dt * a.mat * gfu.vec\n",
    "    gfu.vec.data += invmstar * res\n",
    "    t_intermediate += dt\n",
    "    print(\"\\r\",time+t_intermediate,end=\"\")\n",
    "    Redraw(blocking=False)\n",
    "#Redraw(blocking=False)\n",
    "print(\"\")\n",
    "time+=t_intermediate"
   ]
  },
  {
   "cell_type": "markdown",
   "metadata": {
    "slideshow": {
     "slide_type": "slide"
    }
   },
   "source": [
    "### Alternative version with iterative solvers\n",
    "\n",
    "* For a factorization of $M^\\ast$ (${M^\\ast}^{-1}$) we require a sparse matrix $M^\\ast$ \n",
    "* To store $M^\\ast$ as a sparse matrix requires new storage (and same memory layout of $A$ and $M$)\n",
    "* For iterative solvers we only require the matrix (and preconditioner) applications\n",
    "* `mstar = m.mat + dt * a.mat` has no storage but matrix-vector multiplications\n",
    "\n",
    "iterative solver version (with Jacobi preconditining):"
   ]
  },
  {
   "cell_type": "code",
   "execution_count": 68,
   "metadata": {
    "slideshow": {
     "slide_type": "-"
    }
   },
   "outputs": [
    {
     "name": "stdout",
     "output_type": "stream",
     "text": [
      "Print base-matrix\n",
      "\n"
     ]
    }
   ],
   "source": [
    "mstar_alt = m.mat + dt * a.mat\n",
    "premstar_alt = m.mat.CreateSmoother() # + dt * a.mat.CreateSmoother()\n",
    "from ngsolve.krylovspace import CGSolver\n",
    "invmstar_alt = CGSolver(mstar_alt,premstar_alt, printrates='\\r',\\\n",
    "                        tol=1e-8, maxiter=200)\n",
    "\n",
    "print(premstar_alt)"
   ]
  },
  {
   "cell_type": "code",
   "execution_count": 69,
   "metadata": {
    "slideshow": {
     "slide_type": "subslide"
    }
   },
   "outputs": [
    {
     "name": "stdout",
     "output_type": "stream",
     "text": [
      "\u001b[2KCG converged in 120 iterations to residual 2.4000569611389256e-11\n",
      "\u001b[2KCG converged in 120 iterations to residual 2.385994603548734e-11\n",
      "\u001b[2KCG converged in 119 iterations to residual 2.971143362570535e-11\n",
      "\u001b[2KCG converged in 119 iterations to residual 2.941319768953821e-11\n",
      "\u001b[2KCG converged in 119 iterations to residual 2.9127606156773094e-11\n",
      "\u001b[2KCG converged in 119 iterations to residual 2.8849236672115242e-11\n",
      "\u001b[2KCG converged in 119 iterations to residual 2.8575093634152334e-11\n",
      "\u001b[2KCG converged in 119 iterations to residual 2.8303547308523903e-11\n",
      "\u001b[2KCG converged in 119 iterations to residual 2.8033735516862975e-11\n",
      "\u001b[2KCG converged in 119 iterations to residual 2.7765243520580104e-11\n",
      "\u001b[2KCG converged in 119 iterations to residual 2.749793921656761e-11\n",
      "\u001b[2KCG converged in 119 iterations to residual 2.7231890523198566e-11\n",
      "\u001b[2KCG converged in 119 iterations to residual 2.6967323034007376e-11\n",
      "\u001b[2KCG converged in 119 iterations to residual 2.6704594181662503e-11\n",
      "\u001b[2KCG converged in 119 iterations to residual 2.644417072241099e-11\n",
      "\u001b[2KCG converged in 119 iterations to residual 2.618660275365454e-11\n",
      "\u001b[2KCG converged in 119 iterations to residual 2.5932491585999795e-11\n",
      "\u001b[2KCG converged in 119 iterations to residual 2.5682451545682505e-11\n",
      "\u001b[2KCG converged in 119 iterations to residual 2.5437067628363337e-11\n",
      "\u001b[2KCG converged in 119 iterations to residual 2.51968520708957e-11\n",
      "\u001b[2KCG converged in 118 iterations to residual 2.9300419710849286e-11\n",
      "\u001b[2KCG converged in 118 iterations to residual 2.896130951090339e-11\n",
      "\u001b[2KCG converged in 118 iterations to residual 2.8622496033044253e-11\n",
      "\u001b[2KCG converged in 118 iterations to residual 2.8283820273758703e-11\n",
      "\u001b[2KCG converged in 118 iterations to residual 2.794543868612149e-11\n",
      "\u001b[2KCG converged in 118 iterations to residual 2.7607814299793823e-11\n",
      "\u001b[2KCG converged in 118 iterations to residual 2.7271678353576236e-11\n",
      "\u001b[2KCG converged in 118 iterations to residual 2.6937966448664284e-11\n",
      "\u001b[2KCG converged in 118 iterations to residual 2.6607736196169098e-11\n",
      "\u001b[2KCG converged in 118 iterations to residual 2.6282075351365323e-11\n",
      "\u001b[2KCG converged in 117 iterations to residual 2.9093228461332304e-11\n",
      "\u001b[2KCG converged in 117 iterations to residual 2.8727151562965267e-11\n",
      "\u001b[2KCG converged in 117 iterations to residual 2.836929100344357e-11\n",
      "\u001b[2KCG converged in 117 iterations to residual 2.8018030120485064e-11\n",
      "\u001b[2KCG converged in 117 iterations to residual 2.767207560139912e-11\n",
      "\u001b[2KCG converged in 117 iterations to residual 2.7330494076254047e-11\n",
      "\u001b[2KCG converged in 117 iterations to residual 2.6992717270415582e-11\n",
      "\u001b[2KCG converged in 117 iterations to residual 2.6658517960829818e-11\n",
      "\u001b[2KCG converged in 117 iterations to residual 2.6327962019921344e-11\n",
      "\u001b[2KCG converged in 116 iterations to residual 2.9070778176691103e-11\n",
      "\u001b[2KCG converged in 116 iterations to residual 2.859547468169289e-11\n",
      "\u001b[2KCG converged in 116 iterations to residual 2.8141313150417797e-11\n",
      "\u001b[2KCG converged in 116 iterations to residual 2.770618150813383e-11\n",
      "\u001b[2KCG converged in 116 iterations to residual 2.728801997163431e-11\n",
      "\u001b[2KCG converged in 116 iterations to residual 2.688488774858826e-11\n",
      "\u001b[2KCG converged in 116 iterations to residual 2.6495015108809396e-11\n",
      "\u001b[2KCG converged in 116 iterations to residual 2.611684033016773e-11\n",
      "\u001b[2KCG converged in 116 iterations to residual 2.5749031677850254e-11\n",
      "\u001b[2KCG converged in 116 iterations to residual 2.5390495225816492e-11\n",
      "\u001b[2KCG converged in 116 iterations to residual 2.504036994732762e-11\n",
      "\u001b[2KCG converged in 115 iterations to residual 2.8472521031355623e-11\n",
      "\u001b[2KCG converged in 115 iterations to residual 2.7958447524237567e-11\n",
      "\u001b[2KCG converged in 115 iterations to residual 2.746404901029876e-11\n",
      "\u001b[2KCG converged in 115 iterations to residual 2.698833997314568e-11\n",
      "\u001b[2KCG converged in 115 iterations to residual 2.6530230410440178e-11\n",
      "\u001b[2KCG converged in 115 iterations to residual 2.608857235921139e-11\n",
      "\u001b[2KCG converged in 115 iterations to residual 2.5662201041164025e-11\n",
      "\u001b[2KCG converged in 115 iterations to residual 2.5249969949055134e-11\n",
      "\u001b[2KCG converged in 115 iterations to residual 2.4850779557839374e-11\n",
      "\u001b[2KCG converged in 114 iterations to residual 2.8789470477142747e-11\n",
      "\u001b[2KCG converged in 114 iterations to residual 2.831088573283942e-11\n",
      "\u001b[2KCG converged in 114 iterations to residual 2.7843369194777854e-11\n",
      "\u001b[2KCG converged in 114 iterations to residual 2.738716934942671e-11\n",
      "\u001b[2KCG converged in 114 iterations to residual 2.6942418050068e-11\n",
      "\u001b[2KCG converged in 114 iterations to residual 2.6509133508807284e-11\n",
      "\u001b[2KCG converged in 114 iterations to residual 2.6087228335703794e-11\n",
      "\u001b[2KCG converged in 114 iterations to residual 2.5676521155655068e-11\n",
      "\u001b[2KCG converged in 114 iterations to residual 2.527675047830403e-11\n",
      "\u001b[2KCG converged in 113 iterations to residual 2.8771173876908604e-11\n",
      "\u001b[2KCG converged in 113 iterations to residual 2.835482012847952e-11\n",
      "\u001b[2KCG converged in 113 iterations to residual 2.7947130553877953e-11\n",
      "\u001b[2KCG converged in 113 iterations to residual 2.7547829413877155e-11\n",
      "\u001b[2KCG converged in 113 iterations to residual 2.7156702389798187e-11\n",
      "\u001b[2KCG converged in 113 iterations to residual 2.677358196476324e-11\n",
      "\u001b[2KCG converged in 113 iterations to residual 2.6398334197232937e-11\n",
      "\u001b[2KCG converged in 113 iterations to residual 2.6030847127233197e-11\n",
      "\u001b[2KCG converged in 113 iterations to residual 2.567102093960777e-11\n",
      "\u001b[2KCG converged in 113 iterations to residual 2.531875991128254e-11\n",
      "\u001b[2KCG converged in 113 iterations to residual 2.497396609238463e-11\n",
      "\u001b[2KCG converged in 113 iterations to residual 2.4636534613775932e-11\n",
      "\u001b[2KCG converged in 113 iterations to residual 2.4306350474511452e-11\n",
      "\u001b[2KCG converged in 113 iterations to residual 2.3983286639502073e-11\n",
      "\u001b[2KCG converged in 112 iterations to residual 2.846359981511898e-11\n",
      "\u001b[2KCG converged in 112 iterations to residual 2.806138326708831e-11\n",
      "\u001b[2KCG converged in 112 iterations to residual 2.766875158724765e-11\n",
      "\u001b[2KCG converged in 112 iterations to residual 2.7285322964318345e-11\n",
      "\u001b[2KCG converged in 112 iterations to residual 2.6910760442659417e-11\n",
      "\u001b[2KCG converged in 112 iterations to residual 2.654476821964459e-11\n",
      "\u001b[2KCG converged in 112 iterations to residual 2.6187087586525607e-11\n",
      "\u001b[2KCG converged in 112 iterations to residual 2.5837492644715053e-11\n",
      "\u001b[2KCG converged in 112 iterations to residual 2.5495785914084268e-11\n",
      "\u001b[2KCG converged in 112 iterations to residual 2.5161793935946247e-11\n",
      "\u001b[2KCG converged in 112 iterations to residual 2.4835362961064098e-11\n",
      "\u001b[2KCG converged in 112 iterations to residual 2.4516354802349098e-11\n",
      "\u001b[2KCG converged in 112 iterations to residual 2.4204642922770472e-11\n",
      "\u001b[2KCG converged in 112 iterations to residual 2.390010882103583e-11\n",
      "\u001b[2KCG converged in 112 iterations to residual 2.3602638770238157e-11\n",
      "\u001b[2KCG converged in 112 iterations to residual 2.3312120957291655e-11\n",
      "\u001b[2KCG converged in 112 iterations to residual 2.3028443062757795e-11\n",
      "\u001b[2KCG converged in 112 iterations to residual 2.275149031090571e-11\n",
      "\n",
      "CPU times: user 879 ms, sys: 290 ms, total: 1.17 s\n",
      "Wall time: 1.49 s\n"
     ]
    }
   ],
   "source": [
    "%%time\n",
    "tstep = 0.1\n",
    "t_intermediate=0 # time counter within one block-run\n",
    "while t_intermediate < tstep - 0.5 * dt:\n",
    "    res.data = dt * f.vec - dt * a.mat * gfu.vec\n",
    "    gfu.vec.data += invmstar_alt * res\n",
    "    t_intermediate += dt\n",
    "    # print(\"\\r t = {:24}, iteration steps: {}\".format(time+t_intermediate,invmstar_alt.GetSteps()), end=\"\")\n",
    "    Redraw(blocking=False)\n",
    "print(\"\")\n",
    "time+=t_intermediate"
   ]
  },
  {
   "cell_type": "markdown",
   "metadata": {
    "slideshow": {
     "slide_type": "slide"
    }
   },
   "source": [
    "## Supplementary material:\n",
    "* [Time dependent r.h.s.](#TDRHS)\n",
    "* [Time dependent boundary data](#TDBND)\n",
    "* [Runge-Kutta time integration](#RK)\n",
    "* [VTK Output](#VTK)"
   ]
  },
  {
   "cell_type": "markdown",
   "metadata": {
    "slideshow": {
     "slide_type": "slide"
    }
   },
   "source": [
    "## Supplementary 1: time-dependent r.h.s. data <a class=\"anchor\" id=\"TDRHS\"></a>\n",
    "\n",
    "Next: time-dependent r.h.s. data $f=f(t)$:\n",
    "\n",
    "* Use `Parameter` t representing the time. \n",
    "* A `Parameter` is a constant `CoefficientFunction` the value of which can be changed with the `Set`-function."
   ]
  },
  {
   "cell_type": "code",
   "execution_count": 70,
   "metadata": {
    "slideshow": {
     "slide_type": "-"
    }
   },
   "outputs": [],
   "source": [
    "t = Parameter(0.0)"
   ]
  },
  {
   "cell_type": "markdown",
   "metadata": {
    "slideshow": {
     "slide_type": "subslide"
    }
   },
   "source": [
    "An example of a time-dependent coefficient that we want to use as r.h.s. in the following is"
   ]
  },
  {
   "cell_type": "code",
   "execution_count": 71,
   "metadata": {
    "slideshow": {
     "slide_type": "-"
    }
   },
   "outputs": [],
   "source": [
    "omega=1\n",
    "gausspt = exp(-6*((x+sin(omega*t))*(x+sin(omega*t))+y*y))-exp(-6*((x-sin(omega*t))*(x-sin(omega*t))+y*y))\n",
    "scene = Draw(gausspt,mesh,\"ft\",order=3)\n",
    "time = 0.0\n",
    "from time import sleep\n",
    "while time < 4 - 0.5 * dt:\n",
    "    t.Set(time)\n",
    "    Redraw()\n",
    "    time += 1e-3"
   ]
  },
  {
   "cell_type": "markdown",
   "metadata": {
    "slideshow": {
     "slide_type": "subslide"
    }
   },
   "source": [
    "Accordingly we define a different linear form which then has to be assembled in every time step."
   ]
  },
  {
   "cell_type": "code",
   "execution_count": 72,
   "metadata": {
    "slideshow": {
     "slide_type": "-"
    }
   },
   "outputs": [],
   "source": [
    "ft = LinearForm(fes)\n",
    "ft += gausspt*v*dx\n",
    "time = 0.0\n",
    "t.Set(0.0)\n",
    "gfu.Set((1-y*y)*x)\n",
    "#gfu.Set(CoefficientFunction(0))\n",
    "scene = Draw(gfu,mesh,\"u\")"
   ]
  },
  {
   "cell_type": "code",
   "execution_count": 74,
   "metadata": {
    "slideshow": {
     "slide_type": "subslide"
    }
   },
   "outputs": [
    {
     "name": "stdout",
     "output_type": "stream",
     "text": [
      " 9.999999999999897676\n"
     ]
    }
   ],
   "source": [
    "tstep = 10 # time that we want to step over within one block-run\n",
    "t_intermediate=0 # time counter within one block-run\n",
    "res = gfu.vec.CreateVector()\n",
    "while t_intermediate < tstep - 0.5 * dt:\n",
    "    t.Set(time+t_intermediate+dt)\n",
    "    ft.Assemble()\n",
    "    res.data = dt * ft.vec - dt * a.mat * gfu.vec\n",
    "    gfu.vec.data += invmstar * res\n",
    "    t_intermediate += dt\n",
    "    print(\"\\r\",time+t_intermediate,end=\"\")\n",
    "    Redraw()\n",
    "print(\"\")\n",
    "time+=t_intermediate"
   ]
  },
  {
   "cell_type": "markdown",
   "metadata": {
    "slideshow": {
     "slide_type": "slide"
    }
   },
   "source": [
    "## Supplementary 2: Time dependent boundary conditions <a class=\"anchor\" id=\"TDBND\"></a>\n"
   ]
  },
  {
   "cell_type": "markdown",
   "metadata": {
    "slideshow": {
     "slide_type": "-"
    }
   },
   "source": [
    "* $u|_{\\partial \\Omega} = u_D(t)$, $f=0$\n",
    "* implicit Euler time stepping method, non-incremental form:\n",
    "\n",
    "  $$\n",
    "    M^\\ast u^{n+1} = (M + \\Delta t A) u^{n+1} = M u^n\n",
    "  $$  \n",
    "  \n",
    "* Homogenize w.r.t. to boundary conditions, i.e. we split \n",
    "\n",
    "  $$ u^{n+1} = u^{n+1}_0 + u^{n+1}_D $$ \n",
    "  \n",
    "  where $u^{n+1}_D$ is a (discrete) function with correct boundary condition:  \n",
    "  \n",
    "$$\n",
    "  {M^\\ast} u^{n+1}_0 = M u^n - {M^\\ast} u^{n+1}_D\n",
    "$$\n"
   ]
  },
  {
   "cell_type": "code",
   "execution_count": 75,
   "metadata": {
    "slideshow": {
     "slide_type": "subslide"
    }
   },
   "outputs": [],
   "source": [
    "uD = CoefficientFunction( [(1-x*x)*IfPos(sin(0.3*pi*t),sin(0.3*pi*t),0),0,0,0])\n",
    "time = 0.0\n",
    "t.Set(0.0)\n",
    "gfu.Set(uD,BND)\n",
    "scene = Draw(gfu,mesh,\"u\")\n",
    "# visualization stuff\n",
    "from ngsolve.internal import *\n",
    "visoptions.mminval = 0.0\n",
    "visoptions.mmaxval = 0.2\n",
    "visoptions.deformation = 0\n",
    "visoptions.autoscale = 0"
   ]
  },
  {
   "cell_type": "code",
   "execution_count": 77,
   "metadata": {
    "slideshow": {
     "slide_type": "subslide"
    }
   },
   "outputs": [
    {
     "name": "stdout",
     "output_type": "stream",
     "text": [
      " 1.999999999999890576\n"
     ]
    }
   ],
   "source": [
    "tstep = 2 # time that we want to step over within one block-run\n",
    "t_intermediate=0 # time counter within one block-run\n",
    "res = gfu.vec.CreateVector()\n",
    "while t_intermediate < tstep - 0.5 * dt:\n",
    "    t.Set(time+t_intermediate+dt)\n",
    "    res.data = m.mat * gfu.vec\n",
    "    gfu.Set(uD,BND)\n",
    "    res.data -= mstar * gfu.vec\n",
    "    gfu.vec.data += invmstar * res\n",
    "    t_intermediate += dt\n",
    "    print(\"\\r\",time+t_intermediate,end=\"\")\n",
    "    Redraw()\n",
    "print(\"\")\n",
    "time+=t_intermediate"
   ]
  },
  {
   "cell_type": "markdown",
   "metadata": {
    "slideshow": {
     "slide_type": "slide"
    }
   },
   "source": [
    "## Supplementary 3: Singly diagonally implicit Runge-Kutta methods <a class=\"anchor\" id=\"RK\"></a>\n",
    "\n",
    "\n",
    "We consider more sophisticated time integration methods, SDIRK methods. To simplify presentation we set $f=0$.\n",
    "\n",
    "SDIRK methods for the semi-discrete problem $\\frac{d}{dt} u = M^{-1} F(u) = -M^{-1} \\cdot A u$ are of the form:\n",
    "\n",
    "$$\n",
    "  u^{n+1} = u^n + \\Delta t M^{-1} \\sum_{i=0}^{s-1} b_i k_i\n",
    "$$\n",
    "\n",
    "with\n",
    "\n",
    "$$\n",
    "k_i = - A u_i \\quad \\text{ where $u_i$ is the solution to } \\quad \n",
    "(M + a_{ii} \\Delta t A) u_i = M u^n - \\Delta t \\sum_{i=0}^{i-1} a_{ij} k_j, \\quad i=0,..,s-1.\n",
    "$$"
   ]
  },
  {
   "cell_type": "markdown",
   "metadata": {
    "slideshow": {
     "slide_type": "subslide"
    }
   },
   "source": [
    "The coefficients a,b and c are stored in the butcher tableau:\n",
    "\n",
    "$$\n",
    "\\begin{array}{c|cccc}\n",
    "c_0 & a_{00} & 0 & \\ddots& \\\\\n",
    "c_1 & a_{10} & a_{11} & 0 & \\ddots \\\\\n",
    "\\vdots & \\vdots & \\vdots & \\ddots & 0\\\\\n",
    "c_{s-1} & a_{s-1,0} & a_{s-1,1} & \\dots& a_{s-1,s-1} \\\\ \\hline\n",
    " & b_{0} & b_1 & \\dots& b_{s-1} \\\\\n",
    "\\end{array}\n",
    "$$\n",
    "\n",
    "For an SDIRK method we have $a^\\ast = a_{ii},~i=0,..,s-1$."
   ]
  },
  {
   "cell_type": "markdown",
   "metadata": {
    "slideshow": {
     "slide_type": "subslide"
    }
   },
   "source": [
    "Simplest example: Implicit Euler\n",
    "$$\n",
    "\\begin{array}{c|c}\n",
    "1 & 1 \\\\ \\hline\n",
    " & 1  \\\\\n",
    "\\end{array}\n",
    "$$"
   ]
  },
  {
   "cell_type": "code",
   "execution_count": 78,
   "metadata": {
    "slideshow": {
     "slide_type": "-"
    }
   },
   "outputs": [],
   "source": [
    "class sdirk1: #order 1 (implicit Euler)\n",
    "    stages = 1\n",
    "    a = [[1]]\n",
    "    b = [1]\n",
    "    c = [1]\n",
    "    astar = 1"
   ]
  },
  {
   "cell_type": "markdown",
   "metadata": {
    "slideshow": {
     "slide_type": "subslide"
    }
   },
   "source": [
    "We can use for example the 2 stage SDIRK (order 3) method\n",
    "\n",
    "$$\n",
    "\\begin{array}{c|cc}\n",
    "p & p & 0 \\\\\n",
    "1-p & 1-2p & p \\\\ \\hline\n",
    " & 1/2 & 1/2 \\\\\n",
    "\\end{array}\n",
    "$$\n",
    "\n",
    "with $p = \\frac{3 - \\sqrt{3}}{6}$."
   ]
  },
  {
   "cell_type": "code",
   "execution_count": 79,
   "metadata": {
    "slideshow": {
     "slide_type": "-"
    }
   },
   "outputs": [],
   "source": [
    "class sdirk2: #order 3\n",
    "    p = (3 - sqrt(3))/6\n",
    "    stages = 2\n",
    "    a = [[p, 0], \n",
    "         [1 - 2*p, p]]\n",
    "    b = [1/2, 1/2]\n",
    "    c = [p, 1 - p]\n",
    "    astar = p\n",
    "    "
   ]
  },
  {
   "cell_type": "markdown",
   "metadata": {
    "slideshow": {
     "slide_type": "subslide"
    }
   },
   "source": [
    "We can use for example the 5 stage SDIRK (order 4) method\n",
    "$$\n",
    "\\begin{array}{c|cccc}\n",
    "1/4 & 1/4  \\\\\n",
    "3/4 & 1/2 & 1/4 & \\\\\n",
    "11/20 & 17/50 & -1/25 & 1/4 \\\\\n",
    "1/2 & 371/1360 & -137/2720 & 15/544 & 1/4 \\\\\n",
    "1 & 25/4 & -49/48 & 125/16 & -85/12 & 1/4 \\\\ \\hline\n",
    " & 25/4 & -49/48 & 125/16 & -85/12 & 1/4 \\\\\n",
    "\\end{array}\n",
    "$$"
   ]
  },
  {
   "cell_type": "code",
   "execution_count": 80,
   "metadata": {
    "slideshow": {
     "slide_type": "-"
    }
   },
   "outputs": [],
   "source": [
    "class sdirk5: #order 4\n",
    "    stages = 5\n",
    "    a = [[1/4, 0, 0, 0, 0], \n",
    "         [1/2, 1/4, 0, 0, 0], \n",
    "         [17/50,-1/25, 1/4, 0, 0],\n",
    "         [371/1360, -137/2720, 15/544, 1/4,0],\n",
    "         [25/24, -49/48, 125/16, -85/12, 1/4]]\n",
    "    b = [25/24, -49/48, 125/16, -85/12, 1/4]\n",
    "    c = [1/4, 3/4, 11/20, 1/2, 1]\n",
    "    astar = 1/4    "
   ]
  },
  {
   "cell_type": "markdown",
   "metadata": {
    "slideshow": {
     "slide_type": "subslide"
    }
   },
   "source": [
    "### SDIRK2 :"
   ]
  },
  {
   "cell_type": "code",
   "execution_count": 81,
   "metadata": {
    "slideshow": {
     "slide_type": "-"
    }
   },
   "outputs": [],
   "source": [
    "butchertab = sdirk2()   \n",
    "rhsi = gfu.vec.CreateVector()\n",
    "Mu0 = gfu.vec.CreateVector()\n",
    "ui = gfu.vec.CreateVector()\n",
    "k = [gfu.vec.CreateVector() for i in range(butchertab.stages)]"
   ]
  },
  {
   "cell_type": "markdown",
   "metadata": {
    "slideshow": {
     "slide_type": "subslide"
    }
   },
   "source": [
    "We have to update the $M^\\ast$ matrix and reset initial data"
   ]
  },
  {
   "cell_type": "code",
   "execution_count": 82,
   "metadata": {
    "slideshow": {
     "slide_type": "-"
    }
   },
   "outputs": [],
   "source": [
    "time = 0.0\n",
    "t.Set(0.0)\n",
    "gfu.Set(uD,BND)\n",
    "scene = Draw(gfu,mesh,\"u\")\n",
    "# visualization stuff\n",
    "from ngsolve.internal import *\n",
    "visoptions.mminval = 0.0\n",
    "visoptions.mmaxval = 0.2\n",
    "visoptions.deformation = 0\n",
    "visoptions.autoscale = 0\n",
    "\n",
    "mstar.AsVector().data = m.mat.AsVector() + butchertab.astar * dt * a.mat.AsVector()\n",
    "invmstar = mstar.Inverse(freedofs=fes.FreeDofs())\n",
    "invmass = m.mat.Inverse(freedofs=fes.FreeDofs())"
   ]
  },
  {
   "cell_type": "code",
   "execution_count": 84,
   "metadata": {
    "slideshow": {
     "slide_type": "subslide"
    }
   },
   "outputs": [
    {
     "name": "stdout",
     "output_type": "stream",
     "text": [
      " 1.999999999999890576\n"
     ]
    }
   ],
   "source": [
    "tstep = 2 # time that we want to step over within one block-run\n",
    "t_intermediate=0 # time counter within one block-run\n",
    "while t_intermediate < tstep - 0.5 * dt:\n",
    "    Mu0.data = m.mat * gfu.vec\n",
    "    for i in range(butchertab.stages):\n",
    "        # add up the ks as prescribed in the butcher tableau\n",
    "        rhsi.data = Mu0\n",
    "        for j in range(0,i):\n",
    "            rhsi.data += dt * butchertab.a[i][j] * k[j]\n",
    "        # Solve for ui (with homogenization for the boundary data)\n",
    "        t.Set(time+t_intermediate+butchertab.c[i]*dt)\n",
    "        gfu.Set(uD,BND)\n",
    "        ui.data = gfu.vec; rhsi.data -= mstar * ui\n",
    "        ui.data += invmstar * rhsi\n",
    "        # compute k[i] from ui\n",
    "        k[i].data = - a.mat * ui\n",
    "    t_intermediate += dt; t.Set(time+t_intermediate)\n",
    "    # Adding up the ks:\n",
    "    gfu.Set(uD,BND)\n",
    "    Mu0.data -= m.mat * gfu.vec\n",
    "    for i in range(0,butchertab.stages):\n",
    "        Mu0.data += dt * butchertab.b[i] * k[i]\n",
    "    gfu.vec.data += invmass * Mu0        \n",
    "    print(\"\\r\",time+t_intermediate,end=\"\")\n",
    "    Redraw()\n",
    "print(\"\"); time+=t_intermediate            "
   ]
  },
  {
   "cell_type": "markdown",
   "metadata": {
    "slideshow": {
     "slide_type": "slide"
    }
   },
   "source": [
    "## Supplementary 4: VTK Output (\"exporting the nice pictures\") <a class=\"anchor\" id=\"VTK\"></a>\n",
    "\n",
    "* see also https://ngsolve.org/blog/ngsolve/2-vtk-output\n",
    "* or `py_tutorials/vtkout.py` (ngsolve repository)\n",
    "\n",
    "Outputting the nice pictures to vtk (to visualize with paraview):"
   ]
  },
  {
   "cell_type": "code",
   "execution_count": 45,
   "metadata": {
    "slideshow": {
     "slide_type": "-"
    }
   },
   "outputs": [
    {
     "data": {
      "text/plain": [
       "'vtk_example1'"
      ]
     },
     "execution_count": 45,
     "metadata": {},
     "output_type": "execute_result"
    }
   ],
   "source": [
    "vtk = VTKOutput(mesh,coefs=[gfu],\n",
    "                names=[\"sol\"],\n",
    "                filename=\"vtk_example1\",\n",
    "                subdivision=3)\n",
    "vtk.Do()"
   ]
  },
  {
   "cell_type": "code",
   "execution_count": 46,
   "metadata": {
    "slideshow": {
     "slide_type": "-"
    }
   },
   "outputs": [
    {
     "name": "stdout",
     "output_type": "stream",
     "text": [
      "vtk_example1.vtu\n"
     ]
    }
   ],
   "source": [
    "%%bash\n",
    "ls vtk_example1.*"
   ]
  },
  {
   "cell_type": "markdown",
   "metadata": {
    "slideshow": {
     "slide_type": "subslide"
    }
   },
   "source": [
    "You can also export vector fields:"
   ]
  },
  {
   "cell_type": "code",
   "execution_count": 47,
   "metadata": {
    "slideshow": {
     "slide_type": "-"
    }
   },
   "outputs": [
    {
     "data": {
      "text/plain": [
       "'vtk_example2'"
      ]
     },
     "execution_count": 47,
     "metadata": {},
     "output_type": "execute_result"
    }
   ],
   "source": [
    "vtk = VTKOutput(mesh,coefs=[gfu,grad(gfu)],names=[\"sol\",\"gradsol\"],filename=\"vtk_example2\",subdivision=3)\n",
    "vtk.Do()"
   ]
  },
  {
   "cell_type": "code",
   "execution_count": 49,
   "metadata": {
    "slideshow": {
     "slide_type": "-"
    }
   },
   "outputs": [],
   "source": [
    "#%%bash\n",
    "#paraview vtk_example2.vtk"
   ]
  },
  {
   "cell_type": "markdown",
   "metadata": {
    "slideshow": {
     "slide_type": "subslide"
    }
   },
   "source": [
    "And time dependent data:"
   ]
  },
  {
   "cell_type": "code",
   "execution_count": 51,
   "metadata": {
    "slideshow": {
     "slide_type": "-"
    }
   },
   "outputs": [
    {
     "name": "stdout",
     "output_type": "stream",
     "text": [
      " 1.000000000000000776\n"
     ]
    }
   ],
   "source": [
    "vtk = VTKOutput(mesh,coefs=[gfu],names=[\"sol\"],filename=\"vtk_example3\",subdivision=3)\n",
    "gfu.Set((1-y*y)*x)\n",
    "vtk.Do(time=0)\n",
    "time = 0\n",
    "tstep = 1 # time that we want to step over within one block-run\n",
    "t_intermediate=0 # time counter within one block-run\n",
    "res = gfu.vec.CreateVector()\n",
    "i = 0\n",
    "while t_intermediate < tstep - 0.5 * dt:\n",
    "    res.data = dt * f.vec - dt * a.mat * gfu.vec\n",
    "    gfu.vec.data += invmstar * res\n",
    "    t_intermediate += dt\n",
    "    print(\"\\r\",time+t_intermediate,end=\"\")\n",
    "    Redraw()\n",
    "    i += 1\n",
    "    if (i%10 == 0):\n",
    "        vtk.Do(time=t_intermediate)\n",
    "print(\"\")"
   ]
  },
  {
   "cell_type": "markdown",
   "metadata": {},
   "source": [
    "Call paraview on gerenated data (if installed):"
   ]
  },
  {
   "cell_type": "code",
   "execution_count": null,
   "metadata": {
    "slideshow": {
     "slide_type": "-"
    }
   },
   "outputs": [],
   "source": [
    "%%bash\n",
    "if ! command -v paraview &> /dev/null\n",
    "then\n",
    "    echo \"paraview is not installed.\"\n",
    "    exit\n",
    "else\n",
    "    paraview vtk_example3.pvd\n",
    "fi"
   ]
  },
  {
   "cell_type": "code",
   "execution_count": null,
   "metadata": {},
   "outputs": [],
   "source": []
  }
 ],
 "metadata": {
  "kernelspec": {
<<<<<<< HEAD
   "display_name": "Python 3.10.7 64-bit",
=======
   "display_name": "Python 3.10.4 64-bit",
>>>>>>> 94fd5c5612158db73810adddbdfbc8f5fa64b3f1
   "language": "python",
   "name": "python3"
  },
  "language_info": {
   "codemirror_mode": {
    "name": "ipython",
    "version": 3
   },
   "file_extension": ".py",
   "mimetype": "text/x-python",
   "name": "python",
   "nbconvert_exporter": "python",
   "pygments_lexer": "ipython3",
<<<<<<< HEAD
   "version": "3.10.7"
  },
  "vscode": {
   "interpreter": {
    "hash": "369f2c481f4da34e4445cda3fffd2e751bd1c4d706f27375911949ba6bb62e1c"
=======
   "version": "3.10.4"
  },
  "vscode": {
   "interpreter": {
    "hash": "aee8b7b246df8f9039afb4144a1f6fd8d2ca17a180786b69acc140d282b71a49"
>>>>>>> 94fd5c5612158db73810adddbdfbc8f5fa64b3f1
   }
  }
 },
 "nbformat": 4,
 "nbformat_minor": 2
}
