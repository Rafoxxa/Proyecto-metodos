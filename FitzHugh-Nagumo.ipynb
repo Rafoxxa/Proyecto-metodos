{
 "cells": [
  {
   "cell_type": "code",
   "execution_count": 106,
   "id": "5328bdda",
   "metadata": {},
   "outputs": [],
   "source": [
    "# Import NGSolve\n",
    "from ngsolve import *\n",
    "from ngsolve.webgui import Draw "
   ]
  },
  {
   "cell_type": "markdown",
   "id": "2392b865",
   "metadata": {},
   "source": [
    "# Ecuaciones de FitzHugh-Nagumo\n",
    "\n",
    "Buscamos resolver las ecuaciones de FitzHugh-Nagumo en un dominio $\\Omega_{T}=\\Omega \\times (0,T)$ con $\\Omega \\subset \\mathbb{R}^{d}$ y frontera $\\Sigma_{T}=\\Sigma \\times (0,T)$:\n",
    "\n",
    "\\begin{align*}\n",
    "\t\\left\\{\n",
    "\t\\begin{array}{ll}\n",
    "\t\t\\dfrac{\\partial \\phi}{\\partial t}-D\\Delta \\phi -c_{1}\\phi (\\phi-\\alpha)(1-\\phi)-c_{2}r=I_{\\text{app}}(x,t), \\quad (x,t) \\in \\Omega_{T}\\\\\n",
    "\t\t\\\\\n",
    "\t\t\\dfrac{\\partial r}{\\partial t}-b(\\phi-dr)=0,  \\quad (x,t) \\in \\Omega_{T}\\\\\n",
    "        \\\\\n",
    "        D\\nabla \\phi\\cdot \\mathbf{n}=0, \\quad    (x,t) \\in \\Sigma_{T},\\\\ \n",
    "        \\\\\n",
    "\t   \\phi(x,0)=\\phi_{0}(x),\\\\\n",
    "       \\\\\n",
    "\t   r(x,0)=r_0(x).\n",
    "\t\\end{array}\n",
    "\t\\right. \n",
    "\\end{align*}"
   ]
  },
  {
   "cell_type": "code",
   "execution_count": 107,
   "id": "269cc498",
   "metadata": {},
   "outputs": [],
   "source": [
    "# Datos del Problema\n",
    "D = 0.5\n",
    "alpha = 0.4\n",
    "c1 = 100\n",
    "c2 = 0.03\n",
    "b = 0.15\n",
    "d = 0.9\n",
    "Iapp = 0"
   ]
  },
  {
   "cell_type": "markdown",
   "id": "5a6844ef",
   "metadata": {},
   "source": [
    "# Formulación Variacional\n",
    "\n",
    "La formulación variacional de las ecuaciones de FitzHugh-Nagumo están dadas por:\n",
    "\n",
    "\\begin{equation*}\\label{Eq2}\n",
    "\t\\left\\{\n",
    "\t\\begin{array}{ll}\n",
    "\t\t\\displaystyle\\int_{\\Omega}\t\\dfrac{\\partial \\phi}{\\partial t}\\varphi \\, + D\\displaystyle\\int_{\\Omega} \\nabla \\phi \\cdot \\nabla \\varphi  =\t\\displaystyle\\int_{\\Omega} (c_{1}\\phi (\\phi-\\alpha)(1-\\phi)-c_{2}r)\\varphi+\\displaystyle\\int_{\\Omega} I_{\\text{app}}(x,t)\\varphi, \\\\\n",
    "\t\t\\\\\n",
    "\t\t\t\\displaystyle\\int_{\\Omega}\t\\dfrac{\\partial r}{\\partial t}\\psi  =\t\\displaystyle\\int_{\\Omega}\t(b\\phi-bdr)\\psi,\n",
    "\t\\end{array}\n",
    "\t\\right.\n",
    "\\end{equation*}\n",
    "en donde $\\varphi, \\psi \\in H_{0}^{1}(\\Omega)$."
   ]
  },
  {
   "cell_type": "markdown",
   "id": "d96c88b3",
   "metadata": {},
   "source": [
    "# Integración Temporal: Forward-Euler (tiempo)\n",
    "\n",
    "Usaremos Forward - Euler para aproximar la solución, en donde se asume conocido $t=t_{n}$. Para esto, consideraremos la semi-discretización temporal en la formulación variacional con paso de tiempo $\\Delta t$:\n",
    "\n",
    "\\begin{equation*}\n",
    "\t\\left\\{\n",
    "\t\\begin{array}{ll}\n",
    "\t\t\\displaystyle\\int_{\\Omega}\t \\frac{\\phi_h^{n+1}-\\phi_h^{n} }{\\Delta t}\\varphi \\, + D\\displaystyle\\int_{\\Omega} \\nabla \\phi_h^{n} \\cdot \\nabla \\varphi  -\t\\displaystyle\\int_{\\Omega} (c_{1}\\phi_h^{n} (\\phi_h^{n}-\\alpha)(1-\\phi_h^{n})-c_{2}r_h^{n})\\varphi =\t\\displaystyle\\int_{\\Omega}\tI_{\\text{app}}(x,t_{n})\\varphi,\\\\\n",
    "        \\\\\n",
    "    \\displaystyle\\int_{\\Omega}\t\\frac{r_h^{n+1}-r_h^{n} }{\\Delta t}\\psi -  \t\\displaystyle\\int_{\\Omega}\t(b\\phi_h^{n}-bdr_h^{n})\\psi=0.\n",
    "\t\\end{array}\n",
    "\t\\right.\n",
    "\\end{equation*}\n",
    "\n",
    "Para esto, se definen los funcionales:\n",
    "\\begin{align*}\n",
    "  a((\\phi, r),(\\varphi, \\psi)) &= D \\int_{\\Omega} \\nabla \\phi \\cdot \\nabla \\varphi\\, d\\Omega - \\int_{\\Omega}(c_{1}\\phi (\\phi-\\alpha)(1-\\phi)-c_{2}r)\\varphi-\\int_{\\Omega} (b\\phi-bdr)\\psi \\, d\\Omega,\\\\\n",
    "   m((\\phi, r),(\\varphi, \\psi)) &= \\int_{\\Omega}  \\phi \\varphi \\, d\\Omega + \\int_{\\Omega} r \\psi \\, d\\Omega,\\\\\n",
    "   b(\\varphi, \\psi)) &= \\int_{\\Omega} I_{\\text{app}} \\varphi \\, d\\Omega.\n",
    "\\end{align*}\n",
    "\n",
    "De esta manera, podemos reescribir la semi-discretización temporal en virtud de los funcionales $a,m,b$. En efecto:\n",
    "\n",
    "\\begin{align*}\n",
    " \\frac{m((\\phi_{h}^{n+1}-\\phi_{h}^{n}, r_{h}^{n+1}-r_{h}^{n}),(\\varphi, \\psi))}{\\Delta t}+a((\\phi_{h}^{n},r_{h}^{n}),(\\varphi, \\psi)) &= b(\\varphi,\\psi).\n",
    "\\end{align*}\n",
    "\n",
    "Consideremos $\\delta \\phi_{h}^{n+1} =\\phi_{h}^{n+1}-\\phi_{h}^{n}$ y $\\delta r_{h}^{n+1} =r_{h}^{n+1}-r_{h}^{n}$. Multiplicando por $\\Delta t$, se obtiene:\n",
    "\n",
    "\\begin{align*}\n",
    " m((\\delta \\phi_{h}^{n+1}, \\delta r_{h}^{n+1}),(\\varphi, \\psi)) &= \\Delta t [b(\\varphi,\\psi)-a((\\phi_{h}^{n},r_{h}^{n}),(\\varphi, \\psi))].\n",
    "\\end{align*}\n",
    "\n",
    "Para utilizar Métodos de Elementos Finitos (FEM), discretizaremos el espacio $\\Omega$ con una malla $\\mathcal{T}_{h}$ de $\\Sigma$. Para esto, cosndieraremos el espacio de polinomios lineales a trozos $V_{N}$ sobre los elementos de $\\mathcal{T}_{h}$. De esta manera, a cada funcional $a,b,m$ se le asocia una matriz de ensamblaje. Por consiguiente, en cada iteración se debe resolver el sistema:\n",
    "\n",
    "\n",
    "\\begin{align*}\n",
    "M \\delta U_{h}^{n+1} &= \\Delta t [b(\\varphi,\\psi)-A(U_{h}^{n})].\n",
    "\\end{align*}\n",
    "\n",
    "Tenemos $\\delta U_{h}^{n+1} = (\\delta  \\phi_{h}^{n+1}, \\delta r_{h}^{n+1})$ y $ U_{h}^{n} = (\\phi_{h}^{n}, \\delta r_{h}^{n})$."
   ]
  },
  {
   "cell_type": "code",
   "execution_count": 108,
   "id": "aad680aa",
   "metadata": {},
   "outputs": [],
   "source": [
    "# Mallado y Geometría\n",
    "from netgen.geom2d import unit_square\n",
    "geo = unit_square\n",
    "# Tamaño del Mallado\n",
    "hraw = 0.1\n",
    "mesh = Mesh(geo.GenerateMesh(maxh=hraw))\n",
    "# Preguntar si debo incluir condición de frontera"
   ]
  },
  {
   "cell_type": "code",
   "execution_count": 109,
   "id": "11cdd953",
   "metadata": {},
   "outputs": [],
   "source": [
    "# Time Loop\n",
    "import time\n",
    "# Tiempo final\n",
    "tend = 1.0\n",
    "# Paso de tiempo\n",
    "CFL = 0.5\n",
    "dt = CFL * hraw**2\n",
    "tn = 0"
   ]
  },
  {
   "cell_type": "code",
   "execution_count": 110,
   "id": "f0cd59c8",
   "metadata": {},
   "outputs": [
    {
     "data": {
      "text/plain": [
       "<ngsolve.comp.LinearForm at 0x2d52b26c4f0>"
      ]
     },
     "execution_count": 110,
     "metadata": {},
     "output_type": "execute_result"
    }
   ],
   "source": [
    "# FEM\n",
    "order = 2\n",
    "V = H1(mesh, order=order)\n",
    "W = H1(mesh, order=order)\n",
    "fes = V*W\n",
    "(phi,r), (varphi,psi) = fes.TnT() \n",
    "\n",
    "# Formas Bilineales\n",
    "a = BilinearForm(fes)\n",
    "a += (D*grad(phi)*grad(varphi))*dx \n",
    "a += -c1*phi*(phi-alpha)*(1-phi)*varphi*dx\n",
    "a += -(b*phi-b*d*r)*psi*dx\n",
    "a\n",
    "\n",
    "m = BilinearForm(fes)\n",
    "m += phi*varphi*dx \n",
    "m += r*psi*dx\n",
    "m\n",
    "\n",
    "b = LinearForm(fes)\n",
    "b += Iapp*varphi*dx\n",
    "b += 0*psi*dx\n",
    "b"
   ]
  },
  {
   "cell_type": "markdown",
   "id": "15bde464",
   "metadata": {},
   "source": [
    "Tomaremos $I_{\\text{app}}=0$."
   ]
  },
  {
   "cell_type": "code",
   "execution_count": 111,
   "id": "71ed5240",
   "metadata": {},
   "outputs": [],
   "source": [
    "# Matriz de Ensamblaje\n",
    "a.Assemble()\n",
    "m.Assemble()\n",
    "b.Assemble()\n",
    "\n",
    "mstar = m.mat.CreateMatrix()\n",
    "mstar.AsVector().data =  m.mat.AsVector() + dt * a.mat.AsVector()\n",
    "\n",
    "# ¿Cómo definir mstar.Asvector() con la forma lineal b asociada al impulso externo I_app? No estoy seguro si m.star.AsVector()\n",
    "# es correcto. Preguntar.\n",
    "\n",
    "invmstar = mstar.Inverse(freedofs=fes.FreeDofs())"
   ]
  },
  {
   "cell_type": "code",
   "execution_count": 112,
   "id": "7aba48b9",
   "metadata": {},
   "outputs": [],
   "source": [
    "# Condiciones Iniciales\n",
    "t = Parameter(0)\n",
    "phi0 = 1 + 0.5*cos(4*pi*x)*cos(4*pi*y)\n",
    "r0 = 1 + 0.5*cos(8*pi*x)*cos(8*pi*y)\n",
    "gfu = GridFunction(fes)\n",
    "gfu.components[0].Set(phi0) \n",
    "gfu.components[1].Set(r0)"
   ]
  },
  {
   "cell_type": "code",
   "execution_count": 113,
   "id": "6c83ca35",
   "metadata": {},
   "outputs": [
    {
     "data": {
      "application/vnd.jupyter.widget-view+json": {
       "model_id": "0920fa8d28b243208c6398f0b635847a",
       "version_major": 2,
       "version_minor": 0
      },
      "text/plain": [
       "WebGuiWidget(value={'gui_settings': {}, 'ngsolve_version': '6.2.2204', 'mesh_dim': 2, 'order2d': 2, 'order3d':…"
      ]
     },
     "metadata": {},
     "output_type": "display_data"
    },
    {
     "name": "stdout",
     "output_type": "stream",
     "text": [
      " t =  1.000000000000000776\n"
     ]
    }
   ],
   "source": [
    "# Solución\n",
    "scene = Draw(gfu.components[0], mesh)\n",
    "res = gfu.vec.CreateVector()\n",
    "while tn < tend - 0.5 * dt:\n",
    "    res.data = -dt * a.mat * gfu.vec\n",
    "    tn += dt\n",
    "    t.Set(tn)\n",
    "    res.data += dt * b.vec  \n",
    "    gfu.vec.data += invmstar * res\n",
    "    \n",
    "    print(\"\\r t = \",tn,end=\"\")\n",
    "    scene.Redraw()\n",
    "    time.sleep(0.1)\n",
    "print(\"\")"
   ]
  },
  {
   "cell_type": "code",
   "execution_count": null,
   "id": "237985b3",
   "metadata": {},
   "outputs": [],
   "source": []
  }
 ],
 "metadata": {
  "kernelspec": {
   "display_name": "Python 3 (ipykernel)",
   "language": "python",
   "name": "python3"
  },
  "language_info": {
   "codemirror_mode": {
    "name": "ipython",
    "version": 3
   },
   "file_extension": ".py",
   "mimetype": "text/x-python",
   "name": "python",
   "nbconvert_exporter": "python",
   "pygments_lexer": "ipython3",
   "version": "3.10.6"
  }
 },
 "nbformat": 4,
 "nbformat_minor": 5
}
